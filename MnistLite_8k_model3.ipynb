{
  "nbformat": 4,
  "nbformat_minor": 0,
  "metadata": {
    "colab": {
      "provenance": [],
      "gpuType": "T4",
      "authorship_tag": "ABX9TyOewF8pP5bOIJ6TaBUpICDs",
      "include_colab_link": true
    },
    "kernelspec": {
      "name": "python3",
      "display_name": "Python 3"
    },
    "language_info": {
      "name": "python"
    },
    "accelerator": "GPU"
  },
  "cells": [
    {
      "cell_type": "markdown",
      "metadata": {
        "id": "view-in-github",
        "colab_type": "text"
      },
      "source": [
        "<a href=\"https://colab.research.google.com/github/divya-r-kamat/MnistLite-8k/blob/main/MnistLite_8k_model3.ipynb\" target=\"_parent\"><img src=\"https://colab.research.google.com/assets/colab-badge.svg\" alt=\"Open In Colab\"/></a>"
      ]
    },
    {
      "cell_type": "markdown",
      "source": [
        "## MNist Neural Network\n",
        "\n",
        "The goal is to achieve 99.4% validation/test accuracy consistently, with less than 15 epochs and 8k parameters\n",
        "\n",
        "### Target:\n",
        "\n",
        "- Make the model lighter (reduce parameter count, stay < 8k)\n",
        "- Use Global Average Pooling (GAP) → reduces overfitting, removes need for large dense layer\n",
        "- Add BatchNorm after convs → stabilize training, faster convergence, better generalization\n",
        "\n",
        "\n",
        "### Results:\n",
        "\n",
        "- Parameters: 5.6k\n",
        "- Best Training Accuracy: 99.48%\n",
        "- Best Test Accuracy: By Epoch 13–15: ~99.0–99.18%.\n",
        "\n",
        "### Analysis\n",
        "\n",
        "- lighter model + GAP + BN gave better stability, fewer params, and accuracy that scales above 99% by 13–15 epochs.\n",
        "- still a bit short of the 99.4% milestone (peaked at ~99.18%).\n",
        "- Notice how training loss is stable and doesn’t collapse/oscillate.\n",
        "- This iteration is clearly more efficient and better aligned with our goal compared to the first model."
      ],
      "metadata": {
        "id": "hX9pHnOLkK53"
      }
    },
    {
      "cell_type": "markdown",
      "source": [
        "### Import Libraries"
      ],
      "metadata": {
        "id": "4MnivLsPvV5J"
      }
    },
    {
      "cell_type": "code",
      "execution_count": 2,
      "metadata": {
        "id": "V2hAypEbkHWL"
      },
      "outputs": [],
      "source": [
        "from __future__ import print_function\n",
        "import torch\n",
        "import torch.nn as nn\n",
        "import torch.nn.functional as F\n",
        "import torch.optim as optim\n",
        "from torchvision import datasets, transforms\n",
        "from torchsummary import summary\n",
        "import matplotlib.pyplot as plt"
      ]
    },
    {
      "cell_type": "markdown",
      "source": [
        "### Check if cuda is available"
      ],
      "metadata": {
        "id": "8Xj6CrkbcwIM"
      }
    },
    {
      "cell_type": "code",
      "source": [
        "cuda = torch.cuda.is_available()\n",
        "print(\"CUDA Available?\", cuda)\n",
        "device = torch.device(\"cuda\" if cuda else \"cpu\")"
      ],
      "metadata": {
        "colab": {
          "base_uri": "https://localhost:8080/"
        },
        "id": "5ZF_9E0dbheG",
        "outputId": "a7ddee4f-f79c-4494-91d0-539acb8bb7b3"
      },
      "execution_count": 3,
      "outputs": [
        {
          "output_type": "stream",
          "name": "stdout",
          "text": [
            "CUDA Available? True\n"
          ]
        }
      ]
    },
    {
      "cell_type": "markdown",
      "source": [
        "### Data Transformations\n",
        "\n",
        "We first start with defining our data transformations. We need to think what our data is and how can we augment it to correct represent images which it might not see otherwise."
      ],
      "metadata": {
        "id": "pLa8K91Gdo2q"
      }
    },
    {
      "cell_type": "code",
      "source": [
        "# Train Phase transformations\n",
        "train_transforms = transforms.Compose([\n",
        "                                       transforms.RandomRotation(5),\n",
        "                                       transforms.RandomAffine(0, translate=(0.1,0.1)),\n",
        "                                       transforms.ToTensor(),\n",
        "                                       transforms.Normalize((0.1307,), (0.3081,)) # The mean and std have to be sequences (e.g., tuples), therefore you should add a comma after the values.\n",
        "                                       # Note the difference between (0.1307) and (0.1307,)\n",
        "                                       ])\n",
        "\n",
        "# Test Phase transformations\n",
        "test_transforms = transforms.Compose([\n",
        "                                       transforms.ToTensor(),\n",
        "                                       transforms.Normalize((0.1307,), (0.3081,))\n",
        "                                       ])\n"
      ],
      "metadata": {
        "id": "547PuG6YeSvP"
      },
      "execution_count": 4,
      "outputs": []
    },
    {
      "cell_type": "markdown",
      "source": [
        "### Reload the data with computed mean and std deviation"
      ],
      "metadata": {
        "id": "mG_tdolIi8j4"
      }
    },
    {
      "cell_type": "code",
      "source": [
        "train = datasets.MNIST('./data', train=True, download=True, transform=train_transforms)\n",
        "test = datasets.MNIST('./data', train=False, download=True, transform=test_transforms)\n",
        "\n",
        "# dataloader arguments - something you'll fetch these from cmdprmt\n",
        "dataloader_args = dict(shuffle=True, batch_size=128, num_workers=4, pin_memory=True) if cuda else dict(shuffle=True, batch_size=64)\n",
        "\n",
        "# train dataloader\n",
        "train_loader = torch.utils.data.DataLoader(train, **dataloader_args)\n",
        "\n",
        "# test dataloader\n",
        "test_loader = torch.utils.data.DataLoader(test, **dataloader_args)"
      ],
      "metadata": {
        "id": "7O1GEg4Xi7N6",
        "colab": {
          "base_uri": "https://localhost:8080/"
        },
        "outputId": "046af70a-514a-48ac-8e5f-8ef29e9afbdf"
      },
      "execution_count": 5,
      "outputs": [
        {
          "output_type": "stream",
          "name": "stderr",
          "text": [
            "100%|██████████| 9.91M/9.91M [00:00<00:00, 18.3MB/s]\n",
            "100%|██████████| 28.9k/28.9k [00:00<00:00, 505kB/s]\n",
            "100%|██████████| 1.65M/1.65M [00:00<00:00, 4.56MB/s]\n",
            "100%|██████████| 4.54k/4.54k [00:00<00:00, 7.89MB/s]\n",
            "/usr/local/lib/python3.12/dist-packages/torch/utils/data/dataloader.py:627: UserWarning: This DataLoader will create 4 worker processes in total. Our suggested max number of worker in current system is 2, which is smaller than what this DataLoader is going to create. Please be aware that excessive worker creation might get DataLoader running slow or even freeze, lower the worker number to avoid potential slowness/freeze if necessary.\n",
            "  warnings.warn(\n"
          ]
        }
      ]
    },
    {
      "cell_type": "markdown",
      "source": [
        "### Model Architecture"
      ],
      "metadata": {
        "id": "67M0IL0qvfQ6"
      }
    },
    {
      "cell_type": "code",
      "source": [
        "import torch\n",
        "import torch.nn as nn\n",
        "import torch.nn.functional as F\n",
        "\n",
        "class Net(nn.Module):\n",
        "    def __init__(self):\n",
        "        super(Net, self).__init__()\n",
        "\n",
        "        self.drop_prob = 0.01\n",
        "        self.dropout = nn.Dropout(self.drop_prob)\n",
        "\n",
        "        # Block 1\n",
        "        self.conv1 = nn.Conv2d(1, 8, 3)   # 28 -> 26\n",
        "        self.bn1 = nn.BatchNorm2d(8)\n",
        "\n",
        "        self.conv2 = nn.Conv2d(8, 10, 3)  # 26 -> 24\n",
        "        self.bn2 = nn.BatchNorm2d(10)\n",
        "\n",
        "        self.pool1 = nn.MaxPool2d(2, 2)   # 24 -> 12\n",
        "\n",
        "        # Transition\n",
        "        self.conv3 = nn.Conv2d(10, 8, 1)\n",
        "        self.bn3 = nn.BatchNorm2d(8)\n",
        "\n",
        "\n",
        "        # Block 2\n",
        "        self.conv4 = nn.Conv2d(8, 16, 3)  # 12 -> 10\n",
        "        self.bn4 = nn.BatchNorm2d(16)\n",
        "        self.conv5 = nn.Conv2d(16, 32, 3)  # 10 -> 8\n",
        "        self.bn5 = nn.BatchNorm2d(32)\n",
        "        self.pool2 = nn.MaxPool2d(2, 2)    # 8 -> 4\n",
        "\n",
        "        # Transition\n",
        "        self.conv6 = nn.Conv2d(32, 8, 1)\n",
        "        self.bn6 = nn.BatchNorm2d(8)\n",
        "        self.conv7 = nn.Conv2d(8, 10, 3)  # 4 - > 2\n",
        "\n",
        "\n",
        "        # GAP instead of conv7\n",
        "        self.gap = nn.AdaptiveAvgPool2d((1,1))\n",
        "\n",
        "    def forward(self, x):\n",
        "        x = F.relu(self.bn1(self.conv1(x)))\n",
        "        #x = self.dropout(x)\n",
        "        x = F.relu(self.bn2(self.conv2(x)))\n",
        "        #x = self.dropout(x)\n",
        "        x = self.pool1(x)\n",
        "\n",
        "        x = F.relu(self.bn3(self.conv3(x)))\n",
        "        #x = self.dropout(x)\n",
        "\n",
        "        x = F.relu(self.bn4(self.conv4(x)))\n",
        "        x = self.dropout(x)\n",
        "        x = F.relu(self.bn5(self.conv5(x)))\n",
        "        x = self.dropout(x)\n",
        "        x = self.pool2(x)\n",
        "\n",
        "        x = F.relu(self.bn6(self.conv6(x)))\n",
        "        x = self.dropout(x)\n",
        "        x = self.conv7(x)\n",
        "\n",
        "\n",
        "        x = self.gap(x)\n",
        "        x = x.view(-1, 10)\n",
        "        return F.log_softmax(x, dim=1)\n"
      ],
      "metadata": {
        "id": "9kMv7nNUkeXR"
      },
      "execution_count": 26,
      "outputs": []
    },
    {
      "cell_type": "markdown",
      "source": [
        "### Check if CUDA is available and display model parameters\n"
      ],
      "metadata": {
        "id": "YBzMigk2vlx_"
      }
    },
    {
      "cell_type": "code",
      "source": [
        "model = Net().to(device)\n",
        "summary(model, input_size=(1, 28, 28))"
      ],
      "metadata": {
        "colab": {
          "base_uri": "https://localhost:8080/"
        },
        "id": "c8rJ1kyRlhWB",
        "outputId": "2c93256f-8cba-4e69-9ffe-0b215368ec8c"
      },
      "execution_count": 27,
      "outputs": [
        {
          "output_type": "stream",
          "name": "stdout",
          "text": [
            "----------------------------------------------------------------\n",
            "        Layer (type)               Output Shape         Param #\n",
            "================================================================\n",
            "            Conv2d-1            [-1, 8, 26, 26]              80\n",
            "       BatchNorm2d-2            [-1, 8, 26, 26]              16\n",
            "            Conv2d-3           [-1, 10, 24, 24]             730\n",
            "       BatchNorm2d-4           [-1, 10, 24, 24]              20\n",
            "         MaxPool2d-5           [-1, 10, 12, 12]               0\n",
            "            Conv2d-6            [-1, 8, 12, 12]              88\n",
            "       BatchNorm2d-7            [-1, 8, 12, 12]              16\n",
            "            Conv2d-8           [-1, 16, 10, 10]           1,168\n",
            "       BatchNorm2d-9           [-1, 16, 10, 10]              32\n",
            "          Dropout-10           [-1, 16, 10, 10]               0\n",
            "           Conv2d-11             [-1, 32, 8, 8]           4,640\n",
            "      BatchNorm2d-12             [-1, 32, 8, 8]              64\n",
            "          Dropout-13             [-1, 32, 8, 8]               0\n",
            "        MaxPool2d-14             [-1, 32, 4, 4]               0\n",
            "           Conv2d-15              [-1, 8, 4, 4]             264\n",
            "      BatchNorm2d-16              [-1, 8, 4, 4]              16\n",
            "          Dropout-17              [-1, 8, 4, 4]               0\n",
            "           Conv2d-18             [-1, 10, 2, 2]             730\n",
            "AdaptiveAvgPool2d-19             [-1, 10, 1, 1]               0\n",
            "================================================================\n",
            "Total params: 7,864\n",
            "Trainable params: 7,864\n",
            "Non-trainable params: 0\n",
            "----------------------------------------------------------------\n",
            "Input size (MB): 0.00\n",
            "Forward/backward pass size (MB): 0.29\n",
            "Params size (MB): 0.03\n",
            "Estimated Total Size (MB): 0.32\n",
            "----------------------------------------------------------------\n"
          ]
        }
      ]
    },
    {
      "cell_type": "markdown",
      "source": [
        "### Print model architecture"
      ],
      "metadata": {
        "id": "Ikfr9UAAvtCG"
      }
    },
    {
      "cell_type": "code",
      "source": [
        "print(model)"
      ],
      "metadata": {
        "colab": {
          "base_uri": "https://localhost:8080/"
        },
        "id": "-BZV275Jllam",
        "outputId": "e0c5fe4a-d21e-4270-8a8d-90f6ab4f59f2"
      },
      "execution_count": 28,
      "outputs": [
        {
          "output_type": "stream",
          "name": "stdout",
          "text": [
            "Net(\n",
            "  (dropout): Dropout(p=0.01, inplace=False)\n",
            "  (conv1): Conv2d(1, 8, kernel_size=(3, 3), stride=(1, 1))\n",
            "  (bn1): BatchNorm2d(8, eps=1e-05, momentum=0.1, affine=True, track_running_stats=True)\n",
            "  (conv2): Conv2d(8, 10, kernel_size=(3, 3), stride=(1, 1))\n",
            "  (bn2): BatchNorm2d(10, eps=1e-05, momentum=0.1, affine=True, track_running_stats=True)\n",
            "  (pool1): MaxPool2d(kernel_size=2, stride=2, padding=0, dilation=1, ceil_mode=False)\n",
            "  (conv3): Conv2d(10, 8, kernel_size=(1, 1), stride=(1, 1))\n",
            "  (bn3): BatchNorm2d(8, eps=1e-05, momentum=0.1, affine=True, track_running_stats=True)\n",
            "  (conv4): Conv2d(8, 16, kernel_size=(3, 3), stride=(1, 1))\n",
            "  (bn4): BatchNorm2d(16, eps=1e-05, momentum=0.1, affine=True, track_running_stats=True)\n",
            "  (conv5): Conv2d(16, 32, kernel_size=(3, 3), stride=(1, 1))\n",
            "  (bn5): BatchNorm2d(32, eps=1e-05, momentum=0.1, affine=True, track_running_stats=True)\n",
            "  (pool2): MaxPool2d(kernel_size=2, stride=2, padding=0, dilation=1, ceil_mode=False)\n",
            "  (conv6): Conv2d(32, 8, kernel_size=(1, 1), stride=(1, 1))\n",
            "  (bn6): BatchNorm2d(8, eps=1e-05, momentum=0.1, affine=True, track_running_stats=True)\n",
            "  (conv7): Conv2d(8, 10, kernel_size=(3, 3), stride=(1, 1))\n",
            "  (gap): AdaptiveAvgPool2d(output_size=(1, 1))\n",
            ")\n"
          ]
        }
      ]
    },
    {
      "cell_type": "markdown",
      "source": [
        "### Load train and test data, and apply transformations"
      ],
      "metadata": {
        "id": "cSXn64vnzdcH"
      }
    },
    {
      "cell_type": "code",
      "source": [
        "# Data to plot accuracy and loss graphs\n",
        "train_losses = []\n",
        "test_losses = []\n",
        "train_acc = []\n",
        "test_acc = []\n",
        "\n",
        "test_incorrect_pred = {'images': [], 'ground_truths': [], 'predicted_vals': []}"
      ],
      "metadata": {
        "id": "FPhBIs6jnmRf"
      },
      "execution_count": 29,
      "outputs": []
    },
    {
      "cell_type": "markdown",
      "source": [
        "### Training Loop"
      ],
      "metadata": {
        "id": "HBh8bEhozmF0"
      }
    },
    {
      "cell_type": "code",
      "source": [
        "from tqdm import tqdm\n",
        "def train(model, device, train_loader, optimizer, epoch):\n",
        "    model.train()\n",
        "    loss = 0\n",
        "    correct = 0\n",
        "    processed = 0\n",
        "    pbar = tqdm(train_loader)\n",
        "    for batch_idx, (data, target) in enumerate(pbar):\n",
        "        data, target = data.to(device), target.to(device)\n",
        "        optimizer.zero_grad()\n",
        "        output = model(data)\n",
        "        loss = F.nll_loss(output, target)\n",
        "        loss.backward()\n",
        "        optimizer.step()\n",
        "        pred = output.argmax(dim=1, keepdim=True)  # get the index of the max log-probability\n",
        "        correct += pred.eq(target.view_as(pred)).sum().item()\n",
        "        processed += len(data)\n",
        "        pbar.set_description(desc= f'Train loss={loss.item():0.4f} batch_id={batch_idx} Accuracy={100*correct/processed:0.2f}')\n",
        "    train_acc.append(100*correct/processed)\n",
        "    train_losses.append(loss/len(train_loader))\n",
        "\n",
        "def test(model, device, test_loader):\n",
        "    model.eval()\n",
        "    test_loss = 0\n",
        "    correct = 0\n",
        "    with torch.no_grad():\n",
        "        for data, target in test_loader:\n",
        "            data, target = data.to(device), target.to(device)\n",
        "            output = model(data)\n",
        "            test_loss += F.nll_loss(output, target, reduction='sum').item()  # sum up batch loss\n",
        "            pred = output.argmax(dim=1, keepdim=True)  # get the index of the max log-probability\n",
        "            correct += pred.eq(target.view_as(pred)).sum().item()\n",
        "\n",
        "    test_loss /= len(test_loader.dataset)\n",
        "    test_acc.append(100. * correct / len(test_loader.dataset))\n",
        "    test_losses.append(test_loss)\n",
        "\n",
        "    print('Test set: Average loss: {:.4f}, Accuracy: {}/{} ({:.2f}%)\\n'.format(\n",
        "        test_loss, correct, len(test_loader.dataset),\n",
        "        100. * correct / len(test_loader.dataset)))"
      ],
      "metadata": {
        "id": "KL-i0su7krGD"
      },
      "execution_count": 30,
      "outputs": []
    },
    {
      "cell_type": "markdown",
      "source": [
        "### Model training"
      ],
      "metadata": {
        "id": "9xAO_c6Bzr9M"
      }
    },
    {
      "cell_type": "code",
      "source": [
        "model = Net().to(device)\n",
        "# optimizer = optim.SGD(model.parameters(), lr=0.01, momentum=0.9)\n",
        "# optimizer = optim.Adam(model.parameters(), lr=0.01)\n",
        "optimizer = torch.optim.SGD(model.parameters(), lr=0.01, momentum=0.9, weight_decay=1e-5)\n",
        "scheduler = torch.optim.lr_scheduler.CosineAnnealingLR(optimizer, T_max=15)\n",
        "\n",
        "# scheduler = optim.lr_scheduler.StepLR(optimizer, step_size=15, gamma=0.1)\n",
        "num_epochs = 15\n",
        "\n",
        "for epoch in range(1, num_epochs+1):\n",
        "    print(f'Epoch {epoch}')\n",
        "    train(model, device, train_loader, optimizer, epoch)\n",
        "    test(model, device, test_loader)\n",
        "    scheduler.step()"
      ],
      "metadata": {
        "colab": {
          "base_uri": "https://localhost:8080/"
        },
        "id": "7RkPicjok29r",
        "outputId": "7d21b96a-0735-4172-e2d9-8b17d477622a"
      },
      "execution_count": 31,
      "outputs": [
        {
          "output_type": "stream",
          "name": "stdout",
          "text": [
            "Epoch 1\n"
          ]
        },
        {
          "output_type": "stream",
          "name": "stderr",
          "text": [
            "Train loss=0.2414 batch_id=468 Accuracy=84.71: 100%|██████████| 469/469 [00:25<00:00, 18.64it/s]\n"
          ]
        },
        {
          "output_type": "stream",
          "name": "stdout",
          "text": [
            "Test set: Average loss: 0.1069, Accuracy: 9691/10000 (96.91%)\n",
            "\n",
            "Epoch 2\n"
          ]
        },
        {
          "output_type": "stream",
          "name": "stderr",
          "text": [
            "Train loss=0.1283 batch_id=468 Accuracy=95.50: 100%|██████████| 469/469 [00:24<00:00, 19.17it/s]\n"
          ]
        },
        {
          "output_type": "stream",
          "name": "stdout",
          "text": [
            "Test set: Average loss: 0.0661, Accuracy: 9798/10000 (97.98%)\n",
            "\n",
            "Epoch 3\n"
          ]
        },
        {
          "output_type": "stream",
          "name": "stderr",
          "text": [
            "Train loss=0.0962 batch_id=468 Accuracy=96.75: 100%|██████████| 469/469 [00:24<00:00, 19.07it/s]\n"
          ]
        },
        {
          "output_type": "stream",
          "name": "stdout",
          "text": [
            "Test set: Average loss: 0.0439, Accuracy: 9860/10000 (98.60%)\n",
            "\n",
            "Epoch 4\n"
          ]
        },
        {
          "output_type": "stream",
          "name": "stderr",
          "text": [
            "Train loss=0.0442 batch_id=468 Accuracy=97.10: 100%|██████████| 469/469 [00:25<00:00, 18.70it/s]\n"
          ]
        },
        {
          "output_type": "stream",
          "name": "stdout",
          "text": [
            "Test set: Average loss: 0.0351, Accuracy: 9883/10000 (98.83%)\n",
            "\n",
            "Epoch 5\n"
          ]
        },
        {
          "output_type": "stream",
          "name": "stderr",
          "text": [
            "Train loss=0.0819 batch_id=468 Accuracy=97.45: 100%|██████████| 469/469 [00:25<00:00, 18.75it/s]\n"
          ]
        },
        {
          "output_type": "stream",
          "name": "stdout",
          "text": [
            "Test set: Average loss: 0.0405, Accuracy: 9878/10000 (98.78%)\n",
            "\n",
            "Epoch 6\n"
          ]
        },
        {
          "output_type": "stream",
          "name": "stderr",
          "text": [
            "Train loss=0.1117 batch_id=468 Accuracy=97.58: 100%|██████████| 469/469 [00:26<00:00, 18.02it/s]\n"
          ]
        },
        {
          "output_type": "stream",
          "name": "stdout",
          "text": [
            "Test set: Average loss: 0.0303, Accuracy: 9907/10000 (99.07%)\n",
            "\n",
            "Epoch 7\n"
          ]
        },
        {
          "output_type": "stream",
          "name": "stderr",
          "text": [
            "Train loss=0.0329 batch_id=468 Accuracy=97.87: 100%|██████████| 469/469 [00:25<00:00, 18.75it/s]\n"
          ]
        },
        {
          "output_type": "stream",
          "name": "stdout",
          "text": [
            "Test set: Average loss: 0.0260, Accuracy: 9919/10000 (99.19%)\n",
            "\n",
            "Epoch 8\n"
          ]
        },
        {
          "output_type": "stream",
          "name": "stderr",
          "text": [
            "Train loss=0.0471 batch_id=468 Accuracy=97.90: 100%|██████████| 469/469 [00:24<00:00, 18.84it/s]\n"
          ]
        },
        {
          "output_type": "stream",
          "name": "stdout",
          "text": [
            "Test set: Average loss: 0.0251, Accuracy: 9910/10000 (99.10%)\n",
            "\n",
            "Epoch 9\n"
          ]
        },
        {
          "output_type": "stream",
          "name": "stderr",
          "text": [
            "Train loss=0.1201 batch_id=468 Accuracy=98.16: 100%|██████████| 469/469 [00:24<00:00, 18.93it/s]\n"
          ]
        },
        {
          "output_type": "stream",
          "name": "stdout",
          "text": [
            "Test set: Average loss: 0.0236, Accuracy: 9922/10000 (99.22%)\n",
            "\n",
            "Epoch 10\n"
          ]
        },
        {
          "output_type": "stream",
          "name": "stderr",
          "text": [
            "Train loss=0.0579 batch_id=468 Accuracy=98.10: 100%|██████████| 469/469 [00:24<00:00, 19.38it/s]\n"
          ]
        },
        {
          "output_type": "stream",
          "name": "stdout",
          "text": [
            "Test set: Average loss: 0.0241, Accuracy: 9928/10000 (99.28%)\n",
            "\n",
            "Epoch 11\n"
          ]
        },
        {
          "output_type": "stream",
          "name": "stderr",
          "text": [
            "Train loss=0.0315 batch_id=468 Accuracy=98.19: 100%|██████████| 469/469 [00:23<00:00, 19.99it/s]\n"
          ]
        },
        {
          "output_type": "stream",
          "name": "stdout",
          "text": [
            "Test set: Average loss: 0.0216, Accuracy: 9929/10000 (99.29%)\n",
            "\n",
            "Epoch 12\n"
          ]
        },
        {
          "output_type": "stream",
          "name": "stderr",
          "text": [
            "Train loss=0.0329 batch_id=468 Accuracy=98.23: 100%|██████████| 469/469 [00:24<00:00, 19.49it/s]\n"
          ]
        },
        {
          "output_type": "stream",
          "name": "stdout",
          "text": [
            "Test set: Average loss: 0.0212, Accuracy: 9936/10000 (99.36%)\n",
            "\n",
            "Epoch 13\n"
          ]
        },
        {
          "output_type": "stream",
          "name": "stderr",
          "text": [
            "Train loss=0.0524 batch_id=468 Accuracy=98.36: 100%|██████████| 469/469 [00:23<00:00, 19.57it/s]\n"
          ]
        },
        {
          "output_type": "stream",
          "name": "stdout",
          "text": [
            "Test set: Average loss: 0.0198, Accuracy: 9937/10000 (99.37%)\n",
            "\n",
            "Epoch 14\n"
          ]
        },
        {
          "output_type": "stream",
          "name": "stderr",
          "text": [
            "Train loss=0.1073 batch_id=468 Accuracy=98.39: 100%|██████████| 469/469 [00:24<00:00, 19.33it/s]\n"
          ]
        },
        {
          "output_type": "stream",
          "name": "stdout",
          "text": [
            "Test set: Average loss: 0.0200, Accuracy: 9940/10000 (99.40%)\n",
            "\n",
            "Epoch 15\n"
          ]
        },
        {
          "output_type": "stream",
          "name": "stderr",
          "text": [
            "Train loss=0.0217 batch_id=468 Accuracy=98.39: 100%|██████████| 469/469 [00:23<00:00, 19.56it/s]\n"
          ]
        },
        {
          "output_type": "stream",
          "name": "stdout",
          "text": [
            "Test set: Average loss: 0.0200, Accuracy: 9940/10000 (99.40%)\n",
            "\n"
          ]
        }
      ]
    },
    {
      "cell_type": "markdown",
      "source": [
        "### Plots"
      ],
      "metadata": {
        "id": "YVvvPndNzwDW"
      }
    },
    {
      "cell_type": "code",
      "source": [
        "t = [t_items.item() for t_items in train_losses]\n",
        "fig, axs = plt.subplots(2,2,figsize=(15,10))\n",
        "axs[0, 0].plot(t)\n",
        "axs[0, 0].set_title(\"Training Loss\")\n",
        "axs[1, 0].plot(train_acc)\n",
        "axs[1, 0].set_title(\"Training Accuracy\")\n",
        "axs[0, 1].plot(test_losses)\n",
        "axs[0, 1].set_title(\"Test Loss\")\n",
        "axs[1, 1].plot(test_acc)\n",
        "axs[1, 1].set_title(\"Test Accuracy\")"
      ],
      "metadata": {
        "colab": {
          "base_uri": "https://localhost:8080/",
          "height": 801
        },
        "id": "y6edzHhnrQOk",
        "outputId": "37021a59-94cc-4569-ed97-24b6721da09f"
      },
      "execution_count": null,
      "outputs": [
        {
          "output_type": "execute_result",
          "data": {
            "text/plain": [
              "Text(0.5, 1.0, 'Test Accuracy')"
            ]
          },
          "metadata": {},
          "execution_count": 65
        },
        {
          "output_type": "display_data",
          "data": {
            "text/plain": [
              "<Figure size 1500x1000 with 4 Axes>"
            ],
            "image/png": "[encoded data removed]"
          },
          "metadata": {}
        }
      ]
    },
    {
      "cell_type": "code",
      "source": [],
      "metadata": {
        "id": "CP3rBojBs06h"
      },
      "execution_count": null,
      "outputs": []
    }
  ]
}